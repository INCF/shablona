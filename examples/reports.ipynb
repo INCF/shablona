{
 "cells": [
  {
   "cell_type": "markdown",
   "id": "c4ebbfee",
   "metadata": {},
   "source": [
    "# Writing methods reports with `pybids`\n",
    "\n",
    "This tutorial shows how to automatically generate a short \"method section\" to describe a BIDS dataset.\n",
    "\n",
    "This part of pybids is under development and not all imaging modalities are supported.\n"
   ]
  },
  {
   "cell_type": "code",
   "execution_count": 1,
   "id": "dc26f62f-9f70-47da-9e10-f3a873c388c5",
   "metadata": {},
   "outputs": [],
   "source": [
    "# lint with black\n",
    "%load_ext lab_black\n",
    "\n",
    "%load_ext autoreload\n",
    "%autoreload 2"
   ]
  },
  {
   "cell_type": "code",
   "execution_count": 2,
   "id": "1203313a-9b12-4ae5-bf9c-1acf3a388e2b",
   "metadata": {},
   "outputs": [],
   "source": [
    "from bids import BIDSLayout\n",
    "from bids.reports import BIDSReport\n",
    "from bids.tests import get_test_data_path\n",
    "import os"
   ]
  },
  {
   "cell_type": "code",
   "execution_count": 3,
   "id": "f85ceea3",
   "metadata": {},
   "outputs": [],
   "source": [
    "dataset = \"synthetic\"\n",
    "\n",
    "# Here we're using an example BIDS dataset that's bundled with the pybids tests\n",
    "data_path = os.path.join(get_test_data_path(), dataset)\n",
    "\n",
    "# Load the BIDS dataset\n",
    "layout = BIDSLayout(data_path)"
   ]
  },
  {
   "cell_type": "code",
   "execution_count": 4,
   "id": "9e705137",
   "metadata": {},
   "outputs": [],
   "source": [
    "# Initialize a report for the dataset\n",
    "report = BIDSReport(layout)"
   ]
  },
  {
   "cell_type": "code",
   "execution_count": 5,
   "id": "e152516d",
   "metadata": {},
   "outputs": [
    {
     "name": "stderr",
     "output_type": "stream",
     "text": [
      "/home/remi/github/pybids/bids/reports/parsing.py:387: UserWarning: sub-02_ses-01_magnitude1.nii.gz not yet supported.\n",
      "  warnings.warn(group[0].filename + \" not yet supported.\")\n",
      "/home/remi/github/pybids/bids/reports/parsing.py:387: UserWarning: sub-02_ses-01_magnitude2.nii.gz not yet supported.\n",
      "  warnings.warn(group[0].filename + \" not yet supported.\")\n",
      "/home/remi/github/pybids/bids/layout/models.py:213: UserWarning: Accessing entities as attributes is deprecated as of 0.7. Please use the .entities dictionary instead (i.e., .entities['run'] instead of .run.\n",
      "  warnings.warn(\"Accessing entities as attributes is deprecated as \"\n",
      "/home/remi/github/pybids/bids/reports/parsing.py:387: UserWarning: sub-01_ses-01_magnitude1.nii.gz not yet supported.\n",
      "  warnings.warn(group[0].filename + \" not yet supported.\")\n",
      "/home/remi/github/pybids/bids/reports/parsing.py:387: UserWarning: sub-01_ses-01_magnitude2.nii.gz not yet supported.\n",
      "  warnings.warn(group[0].filename + \" not yet supported.\")\n",
      "/home/remi/github/pybids/bids/reports/parsing.py:387: UserWarning: sub-05_ses-01_magnitude1.nii.gz not yet supported.\n",
      "  warnings.warn(group[0].filename + \" not yet supported.\")\n",
      "/home/remi/github/pybids/bids/reports/parsing.py:387: UserWarning: sub-05_ses-01_magnitude2.nii.gz not yet supported.\n",
      "  warnings.warn(group[0].filename + \" not yet supported.\")\n",
      "/home/remi/github/pybids/bids/reports/parsing.py:387: UserWarning: sub-04_ses-01_magnitude1.nii.gz not yet supported.\n",
      "  warnings.warn(group[0].filename + \" not yet supported.\")\n",
      "/home/remi/github/pybids/bids/reports/parsing.py:387: UserWarning: sub-04_ses-01_magnitude2.nii.gz not yet supported.\n",
      "  warnings.warn(group[0].filename + \" not yet supported.\")\n",
      "/home/remi/github/pybids/bids/reports/parsing.py:387: UserWarning: sub-03_ses-01_magnitude1.nii.gz not yet supported.\n",
      "  warnings.warn(group[0].filename + \" not yet supported.\")\n",
      "/home/remi/github/pybids/bids/reports/parsing.py:387: UserWarning: sub-03_ses-01_magnitude2.nii.gz not yet supported.\n",
      "  warnings.warn(group[0].filename + \" not yet supported.\")\n"
     ]
    },
    {
     "name": "stdout",
     "output_type": "stream",
     "text": [
      "Number of patterns detected: 1\n",
      "Remember to double-check everything and to replace <deg> with a degree symbol.\n"
     ]
    }
   ],
   "source": [
    "# Method generate returns a Counter of unique descriptions across subjects\n",
    "descriptions = report.generate()"
   ]
  },
  {
   "cell_type": "code",
   "execution_count": 6,
   "id": "53b1d147",
   "metadata": {
    "scrolled": true
   },
   "outputs": [
    {
     "name": "stdout",
     "output_type": "stream",
     "text": [
      "In session 02, MR data were acquired using a UNKNOWN-Tesla MANUFACTURER MODEL MRI scanner.\n",
      "\tOne run of T1-weighted   single-echo structural MRI data were collected (256 slices; repetition time, TR=2500ms; echo time, TE=2.9ms; flip angle, FA=8<deg>; field of view, FOV=256x256mm; matrix size=256x256; voxel size=1x1x1mm).\n",
      "\tOne run of T1-weighted   single-echo structural MRI data were collected (256 slices; repetition time, TR=2500ms; echo time, TE=2.9ms; flip angle, FA=8<deg>; field of view, FOV=256x256mm; matrix size=256x256; voxel size=1x1x1mm).\n",
      "\tOne run of   diffusion-weighted (dMRI) data were collected (repetition time, TR=8400ms; echo time, TE=90ms; flip angle, FA=90<deg>; field of view, FOV=128x128mm; voxel size=2x2x2mm; matrix size=64x64; b-values of 0 and 1000 acquired; 64 diffusion directions).\n",
      "\tA   field map (phase encoding: anterior to posterior; 256 slices; repetition time, TR=400ms; echo time 1 / 2, TE1/2=5190007.65ms; flip angle, FA=60.0<deg>; field of view, FOV=256x256mm; matrix size=256x256; voxel size=1x1x1mm) was acquired for the first and second runs of the N-Back BOLD scan.\n",
      "\tTwo runs of N-Back   single-echo fMRI data were collected (64 slices; repetition time, TR=2500ms; echo time, TE=30ms; flip angle, FA=UNKNOWN<deg>; field of view, FOV=128x128mm; matrix size=64x64; voxel size=2x2x2mm). Run duration was 2:40 minutes, during which 64 volumes were acquired.\n",
      "\tTwo runs of N-Back   single-echo fMRI data were collected (64 slices; repetition time, TR=2500ms; echo time, TE=30ms; flip angle, FA=UNKNOWN<deg>; field of view, FOV=128x128mm; matrix size=64x64; voxel size=2x2x2mm). Run duration was 2:40 minutes, during which 64 volumes were acquired.\n",
      "\tOne run of Rest   single-echo fMRI data were collected (64 slices; repetition time, TR=2500ms; echo time, TE=30ms; flip angle, FA=UNKNOWN<deg>; field of view, FOV=128x128mm; matrix size=64x64; voxel size=2x2x2mm). Run duration was 2:40 minutes, during which 64 volumes were acquired.\n",
      "\tOne run of Rest   single-echo fMRI data were collected (64 slices; repetition time, TR=2500ms; echo time, TE=30ms; flip angle, FA=UNKNOWN<deg>; field of view, FOV=128x128mm; matrix size=64x64; voxel size=2x2x2mm). Run duration was 2:40 minutes, during which 64 volumes were acquired.\n",
      "\tOne run of T1-weighted   single-echo structural MRI data were collected (256 slices; repetition time, TR=2500ms; echo time, TE=2.9ms; flip angle, FA=8<deg>; field of view, FOV=256x256mm; matrix size=256x256; voxel size=1x1x1mm).\n",
      "\tOne run of T1-weighted   single-echo structural MRI data were collected (256 slices; repetition time, TR=2500ms; echo time, TE=2.9ms; flip angle, FA=8<deg>; field of view, FOV=256x256mm; matrix size=256x256; voxel size=1x1x1mm).\n",
      "\tTwo runs of N-Back   single-echo fMRI data were collected (64 slices; repetition time, TR=2500ms; echo time, TE=30ms; flip angle, FA=UNKNOWN<deg>; field of view, FOV=128x128mm; matrix size=64x64; voxel size=2x2x2mm). Run duration was 2:40 minutes, during which 64 volumes were acquired.\n",
      "\tTwo runs of N-Back   single-echo fMRI data were collected (64 slices; repetition time, TR=2500ms; echo time, TE=30ms; flip angle, FA=UNKNOWN<deg>; field of view, FOV=128x128mm; matrix size=64x64; voxel size=2x2x2mm). Run duration was 2:40 minutes, during which 64 volumes were acquired.\n",
      "\tOne run of Rest   single-echo fMRI data were collected (64 slices; repetition time, TR=2500ms; echo time, TE=30ms; flip angle, FA=UNKNOWN<deg>; field of view, FOV=128x128mm; matrix size=64x64; voxel size=2x2x2mm). Run duration was 2:40 minutes, during which 64 volumes were acquired.\n",
      "\tOne run of Rest   single-echo fMRI data were collected (64 slices; repetition time, TR=2500ms; echo time, TE=30ms; flip angle, FA=UNKNOWN<deg>; field of view, FOV=128x128mm; matrix size=64x64; voxel size=2x2x2mm). Run duration was 2:40 minutes, during which 64 volumes were acquired.\n",
      "\tIn session 01, MR data were acquired using a UNKNOWN-Tesla MANUFACTURER MODEL MRI scanner.\n",
      "\tOne run of T1-weighted   single-echo structural MRI data were collected (256 slices; repetition time, TR=2500ms; echo time, TE=2.9ms; flip angle, FA=8<deg>; field of view, FOV=256x256mm; matrix size=256x256; voxel size=1x1x1mm).\n",
      "\tOne run of T1-weighted   single-echo structural MRI data were collected (256 slices; repetition time, TR=2500ms; echo time, TE=2.9ms; flip angle, FA=8<deg>; field of view, FOV=256x256mm; matrix size=256x256; voxel size=1x1x1mm).\n",
      "\tOne run of   diffusion-weighted (dMRI) data were collected (repetition time, TR=8400ms; echo time, TE=90ms; flip angle, FA=90<deg>; field of view, FOV=128x128mm; voxel size=2x2x2mm; matrix size=64x64; b-values of 0 and 1000 acquired; 64 diffusion directions).\n",
      "\tA   field map (phase encoding: anterior to posterior; 256 slices; repetition time, TR=400ms; echo time 1 / 2, TE1/2=5190007.65ms; flip angle, FA=60.0<deg>; field of view, FOV=256x256mm; matrix size=256x256; voxel size=1x1x1mm) was acquired for the first and second runs of the N-Back BOLD scan.\n",
      "\tTwo runs of N-Back   single-echo fMRI data were collected (64 slices; repetition time, TR=2500ms; echo time, TE=30ms; flip angle, FA=UNKNOWN<deg>; field of view, FOV=128x128mm; matrix size=64x64; voxel size=2x2x2mm). Run duration was 2:40 minutes, during which 64 volumes were acquired.\n",
      "\tTwo runs of N-Back   single-echo fMRI data were collected (64 slices; repetition time, TR=2500ms; echo time, TE=30ms; flip angle, FA=UNKNOWN<deg>; field of view, FOV=128x128mm; matrix size=64x64; voxel size=2x2x2mm). Run duration was 2:40 minutes, during which 64 volumes were acquired.\n",
      "\tOne run of Rest   single-echo fMRI data were collected (64 slices; repetition time, TR=2500ms; echo time, TE=30ms; flip angle, FA=UNKNOWN<deg>; field of view, FOV=128x128mm; matrix size=64x64; voxel size=2x2x2mm). Run duration was 2:40 minutes, during which 64 volumes were acquired.\n",
      "\tOne run of Rest   single-echo fMRI data were collected (64 slices; repetition time, TR=2500ms; echo time, TE=30ms; flip angle, FA=UNKNOWN<deg>; field of view, FOV=128x128mm; matrix size=64x64; voxel size=2x2x2mm). Run duration was 2:40 minutes, during which 64 volumes were acquired.\n",
      "\tOne run of T1-weighted   single-echo structural MRI data were collected (256 slices; repetition time, TR=2500ms; echo time, TE=2.9ms; flip angle, FA=8<deg>; field of view, FOV=256x256mm; matrix size=256x256; voxel size=1x1x1mm).\n",
      "\tOne run of T1-weighted   single-echo structural MRI data were collected (256 slices; repetition time, TR=2500ms; echo time, TE=2.9ms; flip angle, FA=8<deg>; field of view, FOV=256x256mm; matrix size=256x256; voxel size=1x1x1mm).\n",
      "\tTwo runs of N-Back   single-echo fMRI data were collected (64 slices; repetition time, TR=2500ms; echo time, TE=30ms; flip angle, FA=UNKNOWN<deg>; field of view, FOV=128x128mm; matrix size=64x64; voxel size=2x2x2mm). Run duration was 2:40 minutes, during which 64 volumes were acquired.\n",
      "\tTwo runs of N-Back   single-echo fMRI data were collected (64 slices; repetition time, TR=2500ms; echo time, TE=30ms; flip angle, FA=UNKNOWN<deg>; field of view, FOV=128x128mm; matrix size=64x64; voxel size=2x2x2mm). Run duration was 2:40 minutes, during which 64 volumes were acquired.\n",
      "\tOne run of Rest   single-echo fMRI data were collected (64 slices; repetition time, TR=2500ms; echo time, TE=30ms; flip angle, FA=UNKNOWN<deg>; field of view, FOV=128x128mm; matrix size=64x64; voxel size=2x2x2mm). Run duration was 2:40 minutes, during which 64 volumes were acquired.\n",
      "\tOne run of Rest   single-echo fMRI data were collected (64 slices; repetition time, TR=2500ms; echo time, TE=30ms; flip angle, FA=UNKNOWN<deg>; field of view, FOV=128x128mm; matrix size=64x64; voxel size=2x2x2mm). Run duration was 2:40 minutes, during which 64 volumes were acquired.\n",
      "\n",
      "Dicoms were converted to NIfTI-1 format. This section was (in part) generated automatically using pybids (0.14.0.post0.dev61).\n"
     ]
    }
   ],
   "source": [
    "# For datasets containing a single study design, all but the most common\n",
    "# description most likely reflect random missing data.\n",
    "pub_description = descriptions.most_common()[0][0]\n",
    "print(pub_description)"
   ]
  }
 ],
 "metadata": {
  "kernelspec": {
   "display_name": "Python 3",
   "language": "python",
   "name": "python3"
  },
  "language_info": {
   "codemirror_mode": {
    "name": "ipython",
    "version": 3
   },
   "file_extension": ".py",
   "mimetype": "text/x-python",
   "name": "python",
   "nbconvert_exporter": "python",
   "pygments_lexer": "ipython3",
   "version": "3.8.0"
  }
 },
 "nbformat": 4,
 "nbformat_minor": 5
}

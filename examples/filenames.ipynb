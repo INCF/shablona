{
 "cells": [
  {
   "cell_type": "markdown",
   "id": "6265d50b-68d1-4150-b708-5528021e3d59",
   "metadata": {},
   "source": [
    "# BIDS filenames and path construction\n",
    "\n",
    "You may want to create valid BIDS filenames for files that are new or hypothetical that would sit within your BIDS project. \n",
    "\n",
    "This is useful when you know what entity values you need to write out to, but don't want to deal with looking up the precise BIDS file-naming syntax. \n",
    "\n",
    "In the example below, imagine we've created a new file containing stimulus presentation information, and we want to save it to a `.tsv.gz` file, per the BIDS naming conventions. \n",
    "\n",
    "All we need to do is define a dictionary with the name components, and `build_path` takes care of the rest (including injecting sub-directories!):\n"
   ]
  },
  {
   "cell_type": "code",
   "execution_count": 9,
   "id": "d911e0ad-1722-467a-9416-2eb4bb7fe5ef",
   "metadata": {},
   "outputs": [],
   "source": [
    "# lint with black\n",
    "%load_ext lab_black"
   ]
  },
  {
   "cell_type": "code",
   "execution_count": 8,
   "id": "bc49c3d5-8515-4b7b-aaa0-67ffcbba9337",
   "metadata": {},
   "outputs": [],
   "source": [
    "from bids import BIDSLayout\n",
    "from bids.tests import get_test_data_path\n",
    "import os"
   ]
  },
  {
   "cell_type": "code",
   "execution_count": 16,
   "id": "660b8ce2-f972-49e6-badd-142414efea4f",
   "metadata": {},
   "outputs": [
    {
     "data": {
      "text/plain": [
       "BIDS Layout: .../pybids/bids/tests/data/7t_trt | Subjects: 10 | Sessions: 20 | Runs: 20"
      ]
     },
     "execution_count": 16,
     "metadata": {},
     "output_type": "execute_result"
    }
   ],
   "source": [
    "# Here we're using an example BIDS dataset that's bundled with the pybids tests\n",
    "data_path = os.path.join(get_test_data_path(), \"7t_trt\")\n",
    "\n",
    "# Initialize the layout\n",
    "raw = BIDSLayout(data_path)\n",
    "raw"
   ]
  },
  {
   "cell_type": "markdown",
   "id": "452662ca-1ca4-40ef-8136-361e738ffdeb",
   "metadata": {},
   "source": [
    "Let's pretend we are about to create some derivatives data for that dataset."
   ]
  },
  {
   "cell_type": "code",
   "execution_count": 11,
   "id": "1f68a6ec-abd1-4c93-b654-b9e41f3a195a",
   "metadata": {},
   "outputs": [
    {
     "data": {
      "text/plain": [
       "BIDS Layout: ...data/7t_trt/derivatives/pybids | Subjects: 0 | Sessions: 0 | Runs: 0"
      ]
     },
     "execution_count": 11,
     "metadata": {},
     "output_type": "execute_result"
    }
   ],
   "source": [
    "pipeline_name = \"pybids\"\n",
    "derivative_dir = os.path.join(raw.root, \"derivatives\", pipeline_name)\n",
    "\n",
    "if not os.path.exists(derivative_dir):\n",
    "    os.makedirs(derivative_dir)\n",
    "derivative = BIDSLayout(derivative_dir, validate=False)\n",
    "derivative"
   ]
  },
  {
   "cell_type": "code",
   "execution_count": 43,
   "id": "0586749a-67d3-47f2-b9f5-49823f685077",
   "metadata": {},
   "outputs": [
    {
     "data": {
      "text/plain": [
       "{'acquisition': 'fullbrain',\n",
       " 'datatype': 'func',\n",
       " 'extension': '.nii.gz',\n",
       " 'run': 1,\n",
       " 'session': '1',\n",
       " 'subject': '01',\n",
       " 'suffix': 'bold',\n",
       " 'task': 'rest'}"
      ]
     },
     "execution_count": 43,
     "metadata": {},
     "output_type": "execute_result"
    }
   ],
   "source": [
    "bf = raw.get(subject=\"01\", session=\"1\", run=1, suffix=\"bold\", extension=\"nii.gz\")\n",
    "entities = bf[0].get_entities()\n",
    "entities"
   ]
  },
  {
   "cell_type": "code",
   "execution_count": 13,
   "id": "5b76b2d5-47e1-4f18-bb64-655c5caa8338",
   "metadata": {
    "tags": []
   },
   "outputs": [
    {
     "data": {
      "text/plain": [
       "'/home/remi/github/pybids/bids/tests/data/7t_trt/sub-01/ses-1/func/sub-01_ses-1_task-rest_acq-fullbrain_run-1_bold.nii.gz'"
      ]
     },
     "execution_count": 13,
     "metadata": {},
     "output_type": "execute_result"
    }
   ],
   "source": [
    "raw.build_path(entities)"
   ]
  },
  {
   "cell_type": "markdown",
   "id": "dc0507b4-e1d2-4d31-969d-4f38198f326f",
   "metadata": {},
   "source": [
    "You can also use `build_path` in more sophisticated ways—for example, by defining your own set of matching templates that cover cases not supported by BIDS out of the box. \n",
    "\n",
    "For example, suppose you want to create a template for naming a new z-stat file. \n",
    "\n",
    "You could do something like:"
   ]
  },
  {
   "cell_type": "code",
   "execution_count": 54,
   "id": "8acdd5dd-a6b0-41cd-9ebe-8ecca45ae3e4",
   "metadata": {},
   "outputs": [
    {
     "name": "stdout",
     "output_type": "stream",
     "text": [
      "sub-{subject}/[ses-{session}]/sub-{subject}[_ses-{session}]_task-{task}[_acq-{acquisition}][_rec-{reconstruction}][_run-{run}][_echo-{echo}][_desc-{desc}]_{suffix}.{extension}\n"
     ]
    },
    {
     "data": {
      "text/plain": [
       "'/home/remi/github/pybids/bids/tests/data/7t_trt/derivatives/pybids/sub-01/ses-1/sub-01_ses-1_task-rest_acq-fullbrain_run-1_desc-mean_bold.nii.gz'"
      ]
     },
     "execution_count": 54,
     "metadata": {},
     "output_type": "execute_result"
    }
   ],
   "source": [
    "# Define the pattern to build out of the components passed in the dictionary\n",
    "filename_pattern = (\n",
    "    \"sub-{subject}\"\n",
    "    + \"[_ses-{session}]\"\n",
    "    + \"_task-{task}\"\n",
    "    + \"[_acq-{acquisition}]\"\n",
    "    + \"[_rec-{reconstruction}]\"\n",
    "    + \"[_run-{run}]\"\n",
    "    + \"[_echo-{echo}]\"\n",
    "    + \"[_desc-{desc}]\"\n",
    "    + \"_{suffix}.{extension}\"\n",
    ")\n",
    "pattern = os.path.join(\"sub-{subject}\", \"[ses-{session}]\", filename_pattern)\n",
    "print(pattern)\n",
    "\n",
    "entities[\"desc\"] = \"mean\"\n",
    "\n",
    "# Notice we pass the new pattern as the second argument\n",
    "derivative.build_path(entities, pattern, validate=False)"
   ]
  },
  {
   "cell_type": "markdown",
   "id": "eb774262-8ca6-4ae9-a49e-6949f13fd1bb",
   "metadata": {},
   "source": [
    "Note that in the above example, we set `validate=False` to ensure that the standard BIDS file validator doesn't run (because the pattern we defined isn't actually compliant with the BIDS specification)."
   ]
  },
  {
   "cell_type": "markdown",
   "id": "c8e21def-270c-4155-8bd1-61e8c6a93c5c",
   "metadata": {},
   "source": [
    "### Writing to files"
   ]
  },
  {
   "cell_type": "code",
   "execution_count": 1,
   "id": "2c4244d4-a128-48cf-a0d3-0cd5550556d9",
   "metadata": {},
   "outputs": [],
   "source": [
    "def set_dataset_description(is_derivative=True):\n",
    "\n",
    "    content = {\n",
    "        \"Name\": \"dataset name\",\n",
    "        \"BIDSVersion\": \"1.6.0\",\n",
    "        \"DatasetType\": \"raw\",\n",
    "        \"License\": \"\",\n",
    "        \"Authors\": [\"\", \"\"],\n",
    "        \"Acknowledgements\": \"Special thanks to \",\n",
    "        \"HowToAcknowledge\": \"Please cite this paper: \",\n",
    "        \"Funding\": [\"\", \"\"],\n",
    "        \"EthicsApprovals\": [\"\"],\n",
    "        \"ReferencesAndLinks\": [\"\", \"\"],\n",
    "        \"DatasetDOI\": \"doi:\",\n",
    "        \"HEDVersion\": \"\",\n",
    "    }\n",
    "\n",
    "    if is_derivative:\n",
    "        content[\"GeneratedBy\"] = [\n",
    "            {\n",
    "                \"Name\": \"\",\n",
    "                \"Version\": \"\",\n",
    "                \"Container\": {\"Type\": \"\", \"Tag\": \"\"},\n",
    "                \"Description\": \"\",\n",
    "                \"CodeURL\": \"\",\n",
    "            },\n",
    "        ]\n",
    "\n",
    "        content[\"SourceDatasets\"] = [\n",
    "            {\n",
    "                \"DOI\": \"doi:\",\n",
    "                \"URL\": \"\",\n",
    "                \"Version\": \"\",\n",
    "            }\n",
    "        ]\n",
    "\n",
    "    return content"
   ]
  },
  {
   "cell_type": "code",
   "execution_count": 37,
   "id": "d73d1007-053d-4016-832e-5f75fb9218d7",
   "metadata": {},
   "outputs": [],
   "source": [
    "import json\n",
    "from bids.layout.writing import write_to_file"
   ]
  },
  {
   "cell_type": "code",
   "execution_count": 39,
   "id": "c6c52009-b610-47d5-a656-294c624d20fd",
   "metadata": {},
   "outputs": [],
   "source": [
    "entities = {\"suffix\": \"dataset_description\", \"extension\": \".json\"}\n",
    "\n",
    "content = set_dataset_description()\n",
    "\n",
    "# derivative.write_to_file(entities, json.dumps(content), validate=False, strict=False)\n",
    "\n",
    "write_to_file(\n",
    "    root=derivative.root, path=\"dataset_description.json\", contents=json.dumps(content)\n",
    ")\n"
   ]
  },
  {
   "cell_type": "markdown",
   "id": "c589aa14-e590-4923-83de-c734cd56dfa7",
   "metadata": {},
   "source": [
    "### TODO\n",
    "\n",
    "write json for derivatives"
   ]
  },
  {
   "cell_type": "markdown",
   "id": "485201b5-e761-4ec4-aa83-82981f56cd07",
   "metadata": {
    "tags": []
   },
   "source": [
    "## Other utilities\n",
    "\n",
    "### Filename parsing\n",
    "Say you have a filename, and you want to manually extract BIDS entities from it. The `parse_file_entities` method provides the facility:"
   ]
  },
  {
   "cell_type": "code",
   "execution_count": 20,
   "id": "bc599eae-05af-4235-99f7-f57c809dc420",
   "metadata": {},
   "outputs": [
    {
     "data": {
      "text/plain": [
       "{'subject': '01', 'run': 1, 'suffix': 'T2w', 'extension': '.nii.gz'}"
      ]
     },
     "execution_count": 20,
     "metadata": {},
     "output_type": "execute_result"
    }
   ],
   "source": [
    "path = \"/a/fake/path/to/a/BIDS/file/sub-01_run-1_T2w.nii.gz\"\n",
    "raw.parse_file_entities(path)"
   ]
  },
  {
   "cell_type": "markdown",
   "id": "0c67050c-f23b-454c-9858-f6c17d4f14ee",
   "metadata": {},
   "source": [
    "A version of this utility independent of a specific layout is available at `bids.layout` ([doc](https://bids-standard.github.io/pybids/generated/bids.layout.parse_file_entities.html#bids.layout.parse_file_entities))."
   ]
  },
  {
   "cell_type": "code",
   "execution_count": 21,
   "id": "8e5de108-4caa-4baa-8883-9eb2c52b6fd0",
   "metadata": {},
   "outputs": [
    {
     "data": {
      "text/plain": [
       "{'subject': '01', 'run': 1, 'suffix': 'T2w', 'extension': '.nii.gz'}"
      ]
     },
     "execution_count": 21,
     "metadata": {},
     "output_type": "execute_result"
    }
   ],
   "source": [
    "from bids.layout import parse_file_entities\n",
    "\n",
    "path = \"/a/fake/path/to/a/BIDS/file/sub-01_run-1_T2w.nii.gz\"\n",
    "parse_file_entities(path)"
   ]
  }
 ],
 "metadata": {
  "kernelspec": {
   "display_name": "Python 3",
   "language": "python",
   "name": "python3"
  },
  "language_info": {
   "codemirror_mode": {
    "name": "ipython",
    "version": 3
   },
   "file_extension": ".py",
   "mimetype": "text/x-python",
   "name": "python",
   "nbconvert_exporter": "python",
   "pygments_lexer": "ipython3",
   "version": "3.8.0"
  }
 },
 "nbformat": 4,
 "nbformat_minor": 5
}

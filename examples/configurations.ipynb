{
 "cells": [
  {
   "cell_type": "markdown",
   "id": "0c604560-881d-4b25-8a30-3fd9f60d1dfe",
   "metadata": {},
   "source": [
    "# Working with configuration"
   ]
  },
  {
   "cell_type": "markdown",
   "id": "a2fb9adf-08bf-47ac-8e66-dd5a2c8f2a47",
   "metadata": {},
   "source": [
    " ---\n",
    "## Table of contents\n",
    "\n",
    "- [Built-in configurations](#built_in_configurations)\n",
    "- [User defined configurations](#user_defined_configurations)"
   ]
  },
  {
   "cell_type": "code",
   "execution_count": null,
   "id": "73782b3d-6386-4ca5-8237-09156222f55f",
   "metadata": {},
   "outputs": [],
   "source": [
    "# lint with black\n",
    "%load_ext lab_black"
   ]
  },
  {
   "cell_type": "code",
   "execution_count": 88,
   "id": "584377bf-3950-4298-a311-bee18a496b5f",
   "metadata": {},
   "outputs": [],
   "source": [
    "from bids import BIDSLayout\n",
    "from bids.tests import get_test_data_path\n",
    "import os"
   ]
  },
  {
   "cell_type": "markdown",
   "id": "fcd01d5c-d5d6-4024-bd02-170e2ee696d7",
   "metadata": {},
   "source": [
    "<a id='built_in_configurations'></a>\n",
    "## Built-in configurations"
   ]
  },
  {
   "cell_type": "markdown",
   "id": "7d20178c-cac8-4556-9b7f-99b23adb5482",
   "metadata": {},
   "source": [
    "If we try to load a derivatives data by itself."
   ]
  },
  {
   "cell_type": "code",
   "execution_count": 73,
   "id": "5cf20bb4-4639-4604-9faf-df83f33d138b",
   "metadata": {},
   "outputs": [],
   "source": [
    "data_path = os.path.join(get_test_data_path(), \"synthetic\", \"derivatives\", \"fmriprep\")"
   ]
  },
  {
   "cell_type": "markdown",
   "id": "2369716d-5611-4903-b003-6e1a2aeaf998",
   "metadata": {},
   "source": [
    "Without `validate=False` no subject is detected."
   ]
  },
  {
   "cell_type": "code",
   "execution_count": 33,
   "id": "2862e809-e7ed-4642-af0d-6b9928d2daae",
   "metadata": {},
   "outputs": [
    {
     "name": "stdout",
     "output_type": "stream",
     "text": [
      "BIDS Layout: ...synthetic/derivatives/fmriprep | Subjects: 0 | Sessions: 0 | Runs: 0\n"
     ]
    }
   ],
   "source": [
    "layout = BIDSLayout(data_path)\n",
    "print(layout)"
   ]
  },
  {
   "cell_type": "markdown",
   "id": "25242b2e-bdae-4d33-b63c-e708417065af",
   "metadata": {},
   "source": [
    "Note that this is equivalent to using the default pybids configuration and that none of the typical entities associated with derivatives (like `desc` for description) would be availaible for querying this layout or for parsing files."
   ]
  },
  {
   "cell_type": "code",
   "execution_count": 78,
   "id": "f13d2ab2-d3dc-44e3-9011-7a180d75c288",
   "metadata": {},
   "outputs": [
    {
     "name": "stdout",
     "output_type": "stream",
     "text": [
      "BIDS Layout: ...synthetic/derivatives/fmriprep | Subjects: 0 | Sessions: 0 | Runs: 0\n",
      "dict_keys(['subject', 'session', 'task', 'acquisition', 'ceagent', 'reconstruction', 'direction', 'run', 'proc', 'modality', 'echo', 'flip', 'inv', 'mt', 'part', 'recording', 'space', 'suffix', 'scans', 'fmap', 'datatype', 'extension'])\n"
     ]
    },
    {
     "data": {
      "text/plain": [
       "False"
      ]
     },
     "execution_count": 78,
     "metadata": {},
     "output_type": "execute_result"
    }
   ],
   "source": [
    "layout = BIDSLayout(data_path, config=['bids'])\n",
    "print(layout)\n",
    "print(layout.get_entities().keys())\n",
    "\"desc\" in layout.get_entities()"
   ]
  },
  {
   "cell_type": "code",
   "execution_count": 80,
   "id": "3ea712e4-9484-4afb-a330-289f781f951d",
   "metadata": {},
   "outputs": [
    {
     "data": {
      "text/plain": [
       "{'session': '01',\n",
       " 'task': 'nback',\n",
       " 'run': 1,\n",
       " 'space': 'MNI152NLin2009cAsym',\n",
       " 'suffix': 'bold',\n",
       " 'extension': '.nii.gz'}"
      ]
     },
     "execution_count": 80,
     "metadata": {},
     "output_type": "execute_result"
    }
   ],
   "source": [
    "filename=\"sub-01_ses-01_task-nback_run-01_space-MNI152NLin2009cAsym_desc-preproc_bold.nii.gz\"\n",
    "# no `desc` entity reported\n",
    "layout.parse_file_entities(filename)"
   ]
  },
  {
   "cell_type": "markdown",
   "id": "fcce032b-6b96-4d97-907d-63e6321c41eb",
   "metadata": {},
   "source": [
    "But we can add the `derivatives` configuration to change this behavior."
   ]
  },
  {
   "cell_type": "code",
   "execution_count": 74,
   "id": "a0af3bd6-2f5f-45da-a755-5ade16cc051f",
   "metadata": {},
   "outputs": [
    {
     "name": "stdout",
     "output_type": "stream",
     "text": [
      "BIDS Layout: ...synthetic/derivatives/fmriprep | Subjects: 5 | Sessions: 10 | Runs: 10\n",
      "dict_keys(['subject', 'session', 'task', 'acquisition', 'ceagent', 'reconstruction', 'direction', 'run', 'proc', 'modality', 'echo', 'flip', 'inv', 'mt', 'part', 'recording', 'space', 'suffix', 'scans', 'fmap', 'datatype', 'extension', 'atlas', 'roi', 'label', 'desc', 'from', 'to', 'mode', 'hemi', 'res', 'den', 'model', 'subset', 'TaskName', 'RepetitionTime'])\n"
     ]
    },
    {
     "data": {
      "text/plain": [
       "True"
      ]
     },
     "execution_count": 74,
     "metadata": {},
     "output_type": "execute_result"
    }
   ],
   "source": [
    "layout = BIDSLayout(data_path, config=['bids', 'derivatives'])\n",
    "print(layout)\n",
    "print(layout.get_entities().keys())\n",
    "\"desc\" in layout.get_entities()"
   ]
  },
  {
   "cell_type": "markdown",
   "id": "830f5ca3-d26e-4703-b473-a3617f4f62eb",
   "metadata": {},
   "source": [
    "And we can now query this layout for derivatives entities."
   ]
  },
  {
   "cell_type": "code",
   "execution_count": 75,
   "id": "c8c3fdee-0748-47d4-9a66-178636b1d3b5",
   "metadata": {
    "tags": []
   },
   "outputs": [
    {
     "data": {
      "text/plain": [
       "['/home/remi/github/pybids/bids/tests/data/synthetic/derivatives/fmriprep/sub-01/ses-01/func/sub-01_ses-01_task-nback_run-01_space-MNI152NLin2009cAsym_desc-preproc_bold.nii.gz',\n",
       " '/home/remi/github/pybids/bids/tests/data/synthetic/derivatives/fmriprep/sub-01/ses-01/func/sub-01_ses-01_task-nback_run-02_space-MNI152NLin2009cAsym_desc-preproc_bold.nii.gz',\n",
       " '/home/remi/github/pybids/bids/tests/data/synthetic/derivatives/fmriprep/sub-01/ses-01/func/sub-01_ses-01_task-rest_space-MNI152NLin2009cAsym_desc-preproc_bold.nii.gz',\n",
       " '/home/remi/github/pybids/bids/tests/data/synthetic/derivatives/fmriprep/sub-01/ses-02/func/sub-01_ses-02_task-nback_run-01_space-MNI152NLin2009cAsym_desc-preproc_bold.nii.gz',\n",
       " '/home/remi/github/pybids/bids/tests/data/synthetic/derivatives/fmriprep/sub-01/ses-02/func/sub-01_ses-02_task-nback_run-02_space-MNI152NLin2009cAsym_desc-preproc_bold.nii.gz',\n",
       " '/home/remi/github/pybids/bids/tests/data/synthetic/derivatives/fmriprep/sub-01/ses-02/func/sub-01_ses-02_task-rest_space-MNI152NLin2009cAsym_desc-preproc_bold.nii.gz']"
      ]
     },
     "execution_count": 75,
     "metadata": {},
     "output_type": "execute_result"
    }
   ],
   "source": [
    "layout.get(extension=\"nii.gz\", subject=\"01\", suffix=\"bold\", desc=\"preproc\", space=\"MNI152NLin2009cAsym\", return_type=\"filename\")"
   ]
  },
  {
   "cell_type": "markdown",
   "id": "8666eeb0-720f-484c-b359-4452cfcc5071",
   "metadata": {},
   "source": [
    "And parse files for derivatives only entities."
   ]
  },
  {
   "cell_type": "code",
   "execution_count": 76,
   "id": "db60b37d-60e1-49c0-b114-7bfb9d6f87d4",
   "metadata": {},
   "outputs": [
    {
     "data": {
      "text/plain": [
       "{'session': '01',\n",
       " 'task': 'nback',\n",
       " 'run': 1,\n",
       " 'space': 'MNI152NLin2009cAsym',\n",
       " 'suffix': 'bold',\n",
       " 'extension': '.nii.gz',\n",
       " 'desc': 'preproc'}"
      ]
     },
     "execution_count": 76,
     "metadata": {},
     "output_type": "execute_result"
    }
   ],
   "source": [
    "filename=\"sub-01_ses-01_task-nback_run-01_space-MNI152NLin2009cAsym_desc-preproc_bold.nii.gz\"\n",
    "layout.parse_file_entities(filename)"
   ]
  },
  {
   "cell_type": "markdown",
   "id": "0a48e7da-8042-463f-916c-f1e819fac901",
   "metadata": {},
   "source": [
    "<a id='user_defined_configurations'></a>\n",
    "## User defined configurations"
   ]
  },
  {
   "cell_type": "markdown",
   "id": "85765cdb-e223-4e35-bb3f-4ea053d1ddce",
   "metadata": {},
   "source": [
    "It is also possible to pass the path to a specific bids defined in a JSON file to override the defaults."
   ]
  },
  {
   "cell_type": "code",
   "execution_count": 48,
   "id": "283deae0-8b0e-4a1e-aab5-fb1821b084f1",
   "metadata": {
    "tags": []
   },
   "outputs": [
    {
     "name": "stdout",
     "output_type": "stream",
     "text": [
      "dict_keys(['subject', 'oligarchy', 'task', 'acquisition', 'ceagent', 'reconstruction', 'direction', 'run', 'proc', 'modality', 'echo', 'recording', 'space', 'suffix', 'scans', 'fmap', 'datatype', 'extension', 'atlas', 'roi', 'label', 'desc', 'from', 'to', 'mode', 'hemi', 'res', 'den', 'model', 'subset', 'TaskName', 'RepetitionTime'])\n"
     ]
    },
    {
     "data": {
      "text/plain": [
       "True"
      ]
     },
     "execution_count": 48,
     "metadata": {},
     "output_type": "execute_result"
    }
   ],
   "source": [
    "config_path = os.path.join(get_test_data_path(), \"..\", 'bids_specs_with_oligarchy.json')\n",
    "layout = BIDSLayout(data_path, config=[config_path, \"derivatives\"])\n",
    "print(layout.get_entities().keys())\n",
    "\"oligarchy\" in layout.get_entities()"
   ]
  },
  {
   "cell_type": "markdown",
   "id": "1518b310-724a-4b0c-926d-ed8db5652c1e",
   "metadata": {},
   "source": [
    "## Parsing files with a specific configuration"
   ]
  },
  {
   "cell_type": "code",
   "execution_count": 89,
   "id": "f89b6177-e2af-4aeb-ac09-fb95c67b99e1",
   "metadata": {},
   "outputs": [],
   "source": [
    "from bids.layout.models import Config"
   ]
  },
  {
   "cell_type": "code",
   "execution_count": 93,
   "id": "94072857-98c5-40f6-8572-671167f4c1eb",
   "metadata": {},
   "outputs": [],
   "source": [
    "data_path = os.path.join(get_test_data_path(), \"synthetic\")\n",
    "filename = '/sub-03_ses-07_run-4_desc-preproc_bold.nii.gz'"
   ]
  },
  {
   "cell_type": "code",
   "execution_count": 94,
   "id": "b088588a-b889-499a-bad5-98a7a8fe2506",
   "metadata": {
    "tags": []
   },
   "outputs": [
    {
     "data": {
      "text/plain": [
       "{'subject': '03',\n",
       " 'session': '07',\n",
       " 'run': 4,\n",
       " 'suffix': 'bold',\n",
       " 'extension': '.nii.gz'}"
      ]
     },
     "execution_count": 94,
     "metadata": {},
     "output_type": "execute_result"
    }
   ],
   "source": [
    "layout = BIDSLayout(data_path)\n",
    "config = Config.load('bids')\n",
    "layout.parse_file_entities(filename, config=[config])"
   ]
  },
  {
   "cell_type": "code",
   "execution_count": 95,
   "id": "32536e41-4bb0-4f98-bd6a-87ddb3ab1ba0",
   "metadata": {},
   "outputs": [
    {
     "data": {
      "text/plain": [
       "{'subject': '03',\n",
       " 'session': '07',\n",
       " 'run': 4,\n",
       " 'suffix': 'bold',\n",
       " 'extension': '.nii.gz'}"
      ]
     },
     "execution_count": 95,
     "metadata": {},
     "output_type": "execute_result"
    }
   ],
   "source": [
    "layout = BIDSLayout(data_path)\n",
    "layout.parse_file_entities(filename, config='bids')"
   ]
  },
  {
   "cell_type": "markdown",
   "id": "81206c9f-443a-420e-bd2a-70a0736c6299",
   "metadata": {},
   "source": [
    "# TODO\n",
    "make parsing with config work"
   ]
  },
  {
   "cell_type": "code",
   "execution_count": 98,
   "id": "4876289f-d519-473c-8aba-686772df1055",
   "metadata": {},
   "outputs": [],
   "source": [
    "def test_parse_file_entities_from_layout(layout_synthetic):\n",
    "    layout = layout_synthetic\n",
    "    filename = '/sub-03_ses-07_run-4_desc-bleargh_sekret.nii.gz'\n",
    "\n",
    "    # Test with entities taken from bids config\n",
    "    target = {'subject': '03', 'session': '07', 'run': 4, 'suffix': 'sekret',\n",
    "              'extension': '.nii.gz'}\n",
    "    assert target == layout.parse_file_entities(filename, config='bids')\n",
    "    config = Config.load('bids')\n",
    "    assert target == layout.parse_file_entities(filename, config=[config])\n",
    "    assert target == layout.parse_file_entities(filename, scope='raw')\n",
    "\n",
    "    # Test with default scope--i.e., everything\n",
    "    target = {'subject': '03', 'session': '07', 'run': 4, 'suffix': 'sekret',\n",
    "              'desc': 'bleargh', 'extension': '.nii.gz'}\n",
    "    assert target == layout.parse_file_entities(filename)\n",
    "    # Test with only the fmriprep pipeline (which includes both configs)\n",
    "    assert target == layout.parse_file_entities(filename, scope='fmriprep')\n",
    "    assert target == layout.parse_file_entities(filename, scope='derivatives')"
   ]
  },
  {
   "cell_type": "code",
   "execution_count": 96,
   "id": "450db2ad-2c2b-4f32-978b-e68b0f7f3e6d",
   "metadata": {},
   "outputs": [
    {
     "data": {
      "text/plain": [
       "{'desc': 'preproc'}"
      ]
     },
     "execution_count": 96,
     "metadata": {},
     "output_type": "execute_result"
    }
   ],
   "source": [
    "layout = BIDSLayout(data_path, derivatives=True)\n",
    "layout.parse_file_entities(filename, config='derivatives', scope='fmriprep')"
   ]
  }
 ],
 "metadata": {
  "kernelspec": {
   "display_name": "Python 3",
   "language": "python",
   "name": "python3"
  },
  "language_info": {
   "codemirror_mode": {
    "name": "ipython",
    "version": 3
   },
   "file_extension": ".py",
   "mimetype": "text/x-python",
   "name": "python",
   "nbconvert_exporter": "python",
   "pygments_lexer": "ipython3",
   "version": "3.8.0"
  }
 },
 "nbformat": 4,
 "nbformat_minor": 5
}
